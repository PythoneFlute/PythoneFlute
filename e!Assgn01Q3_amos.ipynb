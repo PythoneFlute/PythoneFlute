{
  "cells": [
    {
      "cell_type": "markdown",
      "metadata": {
        "id": "view-in-github",
        "colab_type": "text"
      },
      "source": [
        "<a href=\"https://colab.research.google.com/github/PythoneFlute/PythoneFlute/blob/main/e!Assgn01Q3_amos.ipynb\" target=\"_parent\"><img src=\"https://colab.research.google.com/assets/colab-badge.svg\" alt=\"Open In Colab\"/></a>"
      ]
    },
    {
      "cell_type": "code",
      "execution_count": null,
      "id": "f1b8836b-69e1-4310-b0ee-bd9562961f99",
      "metadata": {
        "id": "f1b8836b-69e1-4310-b0ee-bd9562961f99"
      },
      "outputs": [],
      "source": [
        "#Problemstatement3: Write a program that reads X Y as input and perform the following tasks:"
      ]
    },
    {
      "cell_type": "code",
      "execution_count": 2,
      "id": "8c920efe-5d55-4400-8cef-887b1eacb987",
      "metadata": {
        "colab": {
          "base_uri": "https://localhost:8080/"
        },
        "id": "8c920efe-5d55-4400-8cef-887b1eacb987",
        "outputId": "9413954a-fb17-42db-8dcd-8316bbcf2e14"
      },
      "outputs": [
        {
          "output_type": "stream",
          "name": "stdout",
          "text": [
            "Enter x and y values: 7 9\n",
            "<class 'int'> 7\n",
            "<class 'int'> 9\n"
          ]
        }
      ],
      "source": [
        "# Read two space-separated integers X and Y as input\n",
        "x, y = map(int, input(\"Enter x and y values: \").split())\n",
        "\n",
        "# Print the types and values of x and y\n",
        "print(type(x), x)\n",
        "print(type(y), y)\n"
      ]
    },
    {
      "cell_type": "code",
      "execution_count": null,
      "id": "264f7a1e-604a-4648-9da8-7ea8e0330e0c",
      "metadata": {
        "id": "264f7a1e-604a-4648-9da8-7ea8e0330e0c",
        "outputId": "d2a2f3cb-b76d-4e5a-9a4b-33647a39aa34"
      },
      "outputs": [
        {
          "name": "stdin",
          "output_type": "stream",
          "text": [
            "Enter x and y values :  7 9\n"
          ]
        },
        {
          "ename": "AttributeError",
          "evalue": "'map' object has no attribute 'split'",
          "output_type": "error",
          "traceback": [
            "\u001b[1;31m---------------------------------------------------------------------------\u001b[0m",
            "\u001b[1;31mAttributeError\u001b[0m                            Traceback (most recent call last)",
            "Cell \u001b[1;32mIn[1], line 2\u001b[0m\n\u001b[0;32m      1\u001b[0m \u001b[38;5;66;03m#Problemstatement3: Write a program that reads two space-separated integers X and Y as input...\u001b[39;00m\n\u001b[1;32m----> 2\u001b[0m x,y \u001b[38;5;241m=\u001b[39m \u001b[38;5;28mmap\u001b[39m(\u001b[38;5;28mint\u001b[39m,\u001b[38;5;28minput\u001b[39m(\u001b[38;5;124m\"\u001b[39m\u001b[38;5;124mEnter x and y values : \u001b[39m\u001b[38;5;124m\"\u001b[39m))\u001b[38;5;241m.\u001b[39msplit()\n\u001b[0;32m      3\u001b[0m \u001b[38;5;28mprint\u001b[39m (\u001b[38;5;28mtype\u001b[39m (x),x)\n\u001b[0;32m      4\u001b[0m \u001b[38;5;28mprint\u001b[39m (\u001b[38;5;28mtype\u001b[39m (y),y)\n",
            "\u001b[1;31mAttributeError\u001b[0m: 'map' object has no attribute 'split'"
          ]
        }
      ],
      "source": [
        "#Problemstatement3: Write a program that reads two space-separated integers X and Y as input...\n",
        "x,y = map(int,input(\"Enter x and y values : \")).split()\n",
        "print (type (x),x)\n",
        "print (type (y),y)"
      ]
    },
    {
      "cell_type": "code",
      "execution_count": null,
      "id": "59e0ad95-6884-4969-95a0-e11c276aa21f",
      "metadata": {
        "id": "59e0ad95-6884-4969-95a0-e11c276aa21f"
      },
      "outputs": [],
      "source": [
        "#1.Create (lst1) starting at 1, with 16 elements at a step of X.\n",
        "import numpy as np\n",
        "vector=np.linspace(1,16,4)"
      ]
    },
    {
      "cell_type": "code",
      "execution_count": null,
      "id": "54b09cfd-1795-40d9-8af5-a690bdcc36b9",
      "metadata": {
        "id": "54b09cfd-1795-40d9-8af5-a690bdcc36b9"
      },
      "outputs": [],
      "source": [
        "#1.Create (lst1) starting at 1, with 16 elements at a step of X.\n",
        "lst1 = list(range(1, 1 + 16 * x, x))\n",
        "return lst1\n",
        "lst1 = create_list(x,y)\n",
        "print lst1"
      ]
    },
    {
      "cell_type": "code",
      "execution_count": null,
      "id": "914d6021-c697-42e6-ac06-57db70222616",
      "metadata": {
        "id": "914d6021-c697-42e6-ac06-57db70222616"
      },
      "outputs": [],
      "source": [
        "#2.Create (lst2) starting at 1, with 16 elements at a step of Y."
      ]
    },
    {
      "cell_type": "code",
      "execution_count": null,
      "id": "cc4bff2d-3700-45c5-8d52-b64eddfb9166",
      "metadata": {
        "id": "cc4bff2d-3700-45c5-8d52-b64eddfb9166"
      },
      "outputs": [],
      "source": [
        "#3.Create two NumPy arrays np1, np2 using lst1, lst2"
      ]
    },
    {
      "cell_type": "code",
      "execution_count": null,
      "id": "e2073dd1-15d5-4655-b43f-1d6307af19f1",
      "metadata": {
        "id": "e2073dd1-15d5-4655-b43f-1d6307af19f1"
      },
      "outputs": [],
      "source": [
        "#4.Reshape np1,np2 to (4,4)"
      ]
    },
    {
      "cell_type": "code",
      "execution_count": null,
      "id": "8a855c78-e8fe-4714-9d8b-26bf5ea2cb77",
      "metadata": {
        "id": "8a855c78-e8fe-4714-9d8b-26bf5ea2cb77"
      },
      "outputs": [],
      "source": [
        "#5.Create a new np array (np3) with values obtained from: [np1-np2=np3]"
      ]
    },
    {
      "cell_type": "code",
      "execution_count": null,
      "id": "15a18f55-67c2-4b23-88dc-32dc1fc6f18e",
      "metadata": {
        "id": "15a18f55-67c2-4b23-88dc-32dc1fc6f18e"
      },
      "outputs": [],
      "source": [
        "#6. Print all the elements of np3 in a single dimension list e.g   a. [n0 n1 n2 n3 n4 n5 n6 n7 n8]"
      ]
    },
    {
      "cell_type": "code",
      "execution_count": null,
      "id": "044e7986-10ad-4ac5-a8c1-bb7febb4f71a",
      "metadata": {
        "id": "044e7986-10ad-4ac5-a8c1-bb7febb4f71a"
      },
      "outputs": [],
      "source": [
        "#Example: Input: 7 9   Output:   [ 0 -2 -4 -6 -8 -10 -12 -14 -16 -18 -20 -22 -22 -24 -26 -28 -30]"
      ]
    },
    {
      "cell_type": "code",
      "execution_count": null,
      "id": "43be19b0-d79e-45a4-bc31-0c036d02fcbf",
      "metadata": {
        "id": "43be19b0-d79e-45a4-bc31-0c036d02fcbf"
      },
      "outputs": [],
      "source": [
        "import numpy as np"
      ]
    },
    {
      "cell_type": "code",
      "execution_count": null,
      "id": "5fbef278",
      "metadata": {
        "id": "5fbef278"
      },
      "outputs": [],
      "source": []
    }
  ],
  "metadata": {
    "kernelspec": {
      "display_name": "Python 3 (ipykernel)",
      "language": "python",
      "name": "python3"
    },
    "language_info": {
      "codemirror_mode": {
        "name": "ipython",
        "version": 3
      },
      "file_extension": ".py",
      "mimetype": "text/x-python",
      "name": "python",
      "nbconvert_exporter": "python",
      "pygments_lexer": "ipython3",
      "version": "3.10.9"
    },
    "colab": {
      "provenance": [],
      "include_colab_link": true
    }
  },
  "nbformat": 4,
  "nbformat_minor": 5
}